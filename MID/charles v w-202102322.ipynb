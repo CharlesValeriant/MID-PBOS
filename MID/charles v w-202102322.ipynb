{
 "cells": [
  {
   "cell_type": "code",
   "execution_count": 17,
   "id": "96f1c649",
   "metadata": {
    "scrolled": true
   },
   "outputs": [
    {
     "name": "stdout",
     "output_type": "stream",
     "text": [
      "=========CV=============\n",
      "CHARLES VALERIANT WELSON\n",
      "========================\n",
      "PENDIDIKAN :\n",
      "* SD KARYA YOSEF, PONTIANAK LULUSAN TAHUN TAHUN 2014\n",
      "* SMP BRUDER PONTIANAK, PONTIANAK LULUSAN TAHUN 2017\n",
      "* SMA SANTO PAULUS PONTIANAK, PONTIANAK LULUSAN TAHUN 2020\n",
      "========================\n",
      "KEAHLIAN DAN HOBI :\n",
      "* tidak ada les , tetapi ada bimbel di sekolah\n",
      "========================\n"
     ]
    }
   ],
   "source": [
    "nama = \"CHARLES VALERIANT WELSON\"\n",
    "Ijasah_SD = \"* SD KARYA YOSEF, PONTIANAK LULUSAN TAHUN TAHUN 2014\"\n",
    "Ijasah_SMP = \"* SMP BRUDER PONTIANAK, PONTIANAK LULUSAN TAHUN 2017\"\n",
    "Ijasah_SMA= \"* SMA SANTO PAULUS PONTIANAK, PONTIANAK LULUSAN TAHUN 2020\"\n",
    "Pendidikan_Non_formal = \"* tidak ada les , tetapi ada bimbel di sekolah\"\n",
    "eksul =\"* basket, bulu tangkis, drum band\"\n",
    "prestasi =\"* juara basket, juara 2 bulu tangkis, dan lain lain\"\n",
    "\n",
    "#CETAK CV\n",
    "print(\"=========CV=============\")\n",
    "print(nama)\n",
    "print(\"========================\")\n",
    "print(\"PENDIDIKAN :\")\n",
    "print(Ijasah_SD)\n",
    "print(Ijasah_SMP)\n",
    "print(Ijasah_SMA)\n",
    "print(\"========================\")\n",
    "print(\"KEAHLIAN DAN HOBI :\")\n",
    "print(Pendidikan_Non_formal)\n",
    "print(\"========================\")\n"
   ]
  },
  {
   "cell_type": "code",
   "execution_count": 18,
   "id": "bc45ee36",
   "metadata": {
    "scrolled": true
   },
   "outputs": [
    {
     "name": "stdout",
     "output_type": "stream",
     "text": [
      "==========MENGHITUNG LUAS==========\n",
      "Masukan Panjang: 25\n",
      "Masukan Lebar: 50\n",
      "Luas Persegi Panjang : 1250.0\n"
     ]
    }
   ],
   "source": [
    "print(\"==========MENGHITUNG LUAS==========\")\n",
    "panjang = float(input(\"Masukan Panjang: \"))\n",
    "lebar = float(input(\"Masukan Lebar: \"))\n",
    "luas = panjang*lebar\n",
    "print(\"Luas Persegi Panjang :\",luas)"
   ]
  },
  {
   "cell_type": "code",
   "execution_count": 21,
   "id": "d1ad472b",
   "metadata": {},
   "outputs": [
    {
     "name": "stdout",
     "output_type": "stream",
     "text": [
      "================KONVERSI SUHU================\n",
      "silahkan input suhu Celcius : 1\n",
      "ini hasil konversi ke Reamur :  0.8\n",
      "ini hasil konversi ke Kelvin :  274.0\n",
      "ini hasil konversi ke Fahrenheit :  33.8\n"
     ]
    }
   ],
   "source": [
    "print(\"================KONVERSI SUHU================\")\n",
    "Celcius = float(input(\"silahkan input suhu Celcius : \"))\n",
    "Reamur = (4/5)*Celcius\n",
    "Kelvin = Celcius + 273\n",
    "Fahrenheit = (9/5)*Celcius + 32;\n",
    "print (\"ini hasil konversi ke Reamur : \",Reamur)\n",
    "print (\"ini hasil konversi ke Kelvin : \",Kelvin)\n",
    "print (\"ini hasil konversi ke Fahrenheit : \",Fahrenheit)"
   ]
  },
  {
   "cell_type": "code",
   "execution_count": 22,
   "id": "534a2978",
   "metadata": {},
   "outputs": [
    {
     "name": "stdout",
     "output_type": "stream",
     "text": [
      "================KONVERSI SUHU REAMUR================\n",
      "silahkan input suhu Reamur : 1000000\n",
      "ini hasil konversi ke Celcius :  1250000.0\n",
      "ini hasil konversi ke Fahrenheit :  2250032.0\n"
     ]
    }
   ],
   "source": [
    "print(\"================KONVERSI SUHU REAMUR================\")\n",
    "Reamur = float(input(\"silahkan input suhu Reamur : \"))\n",
    "Celcius = (5/4) * Reamur\n",
    "Fahrenheit = (9/4 * Reamur) + 32\n",
    "print (\"ini hasil konversi ke Celcius : \",Celcius)\n",
    "print (\"ini hasil konversi ke Fahrenheit : \",Fahrenheit)"
   ]
  },
  {
   "cell_type": "code",
   "execution_count": 23,
   "id": "65510e97",
   "metadata": {},
   "outputs": [
    {
     "name": "stdout",
     "output_type": "stream",
     "text": [
      "================KONVERSI SUHU FAHRENHEIT================\n",
      "silahkan input suhu Fahrenheit : 500000000000\n",
      "ini hasil konversi ke Reamur :  222222222208.0\n",
      "ini hasil konversi ke Celcius :  277777777760.0\n"
     ]
    }
   ],
   "source": [
    "print(\"================KONVERSI SUHU FAHRENHEIT================\")\n",
    "Fahrenheit = float(input(\"silahkan input suhu Fahrenheit : \"))\n",
    "Reamur = 4/9 * (Fahrenheit - 32)\n",
    "Celcius = (Fahrenheit - 32) * 5/9\n",
    "print (\"ini hasil konversi ke Reamur : \",Reamur)\n",
    "print (\"ini hasil konversi ke Celcius : \",Celcius)"
   ]
  },
  {
   "cell_type": "code",
   "execution_count": 25,
   "id": "82fa0150",
   "metadata": {},
   "outputs": [
    {
     "name": "stdout",
     "output_type": "stream",
     "text": [
      "================KONVERSI WAKTU================\n",
      "silahkan input detik yang diinginkan : 60\n",
      "HASIL KONVERSI DETIK ke MENIT :  60.0\n",
      "HASIL KONVERSI DETIK ke JAM   :  3600.0\n",
      "HASIL KONVERSI DETIK ke HARI  :  86400.0\n"
     ]
    }
   ],
   "source": [
    "print(\"================KONVERSI WAKTU================\")\n",
    "detik = float(input(\"silahkan input detik yang diinginkan : \"))\n",
    "menit = detik * 1\n",
    "jam = 60 * menit\n",
    "hari = 24 * jam\n",
    "print (\"HASIL KONVERSI DETIK ke MENIT : \",menit)\n",
    "print (\"HASIL KONVERSI DETIK ke JAM   : \",jam)\n",
    "print (\"HASIL KONVERSI DETIK ke HARI  : \",hari)"
   ]
  },
  {
   "cell_type": "code",
   "execution_count": 26,
   "id": "27d6a21e",
   "metadata": {},
   "outputs": [
    {
     "name": "stdout",
     "output_type": "stream",
     "text": [
      "================MENGHITUNG LUAS LINGKARAN================\n",
      "silahkan input jari-jari lingkaran : 125\n",
      "Luas Lingkaran :  49062.5\n",
      "=========================================================\n"
     ]
    }
   ],
   "source": [
    "print(\"================MENGHITUNG LUAS LINGKARAN================\")\n",
    "r = float(input(\"silahkan input jari-jari lingkaran : \"))\n",
    "phi  = 3.14\n",
    "L = phi * (r * r)\n",
    "print (\"Luas Lingkaran : \",L)\n",
    "print (\"=========================================================\")\n"
   ]
  },
  {
   "cell_type": "code",
   "execution_count": null,
   "id": "514981ad",
   "metadata": {},
   "outputs": [],
   "source": []
  }
 ],
 "metadata": {
  "kernelspec": {
   "display_name": "Python 3",
   "language": "python",
   "name": "python3"
  },
  "language_info": {
   "codemirror_mode": {
    "name": "ipython",
    "version": 3
   },
   "file_extension": ".py",
   "mimetype": "text/x-python",
   "name": "python",
   "nbconvert_exporter": "python",
   "pygments_lexer": "ipython3",
   "version": "3.8.8"
  }
 },
 "nbformat": 4,
 "nbformat_minor": 5
}
